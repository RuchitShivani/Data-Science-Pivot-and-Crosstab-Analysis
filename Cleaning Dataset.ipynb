{
  "nbformat": 4,
  "nbformat_minor": 0,
  "metadata": {
    "colab": {
      "provenance": [],
      "authorship_tag": "ABX9TyN+D/H3Az8Nr/IWks/XdvqV",
      "include_colab_link": true
    },
    "kernelspec": {
      "name": "python3",
      "display_name": "Python 3"
    },
    "language_info": {
      "name": "python"
    }
  },
  "cells": [
    {
      "cell_type": "markdown",
      "metadata": {
        "id": "view-in-github",
        "colab_type": "text"
      },
      "source": [
        "<a href=\"https://colab.research.google.com/github/RuchitShivani/Data-Science-Pivot-and-Crosstab-Analysis/blob/main/Untitled1.ipynb\" target=\"_parent\"><img src=\"https://colab.research.google.com/assets/colab-badge.svg\" alt=\"Open In Colab\"/></a>"
      ]
    },
    {
      "cell_type": "code",
      "execution_count": null,
      "metadata": {
        "colab": {
          "base_uri": "https://localhost:8080/"
        },
        "id": "i9Mslb8KyLyy",
        "outputId": "e9c17f23-e32f-4745-9d3f-293015d4ed74"
      },
      "outputs": [
        {
          "output_type": "stream",
          "name": "stdout",
          "text": [
            "   EmployeeID     Name   Age   Salary Department  Experience\n",
            "0         101    Alice  25.0  50000.0         HR         2.0\n",
            "1         102      Bob  30.0      NaN         IT         5.0\n",
            "2         103  Charlie   NaN  70000.0    Finance         7.0\n",
            "3         104    David  40.0  80000.0        NaN        10.0\n",
            "4         105      Eve  35.0  60000.0         IT         NaN\n",
            "\n",
            "Missing Values Before Handling:\n",
            " EmployeeID    0\n",
            "Name          0\n",
            "Age           2\n",
            "Salary        2\n",
            "Department    1\n",
            "Experience    1\n",
            "dtype: int64\n"
          ]
        }
      ],
      "source": [
        "import pandas as pd\n",
        "\n",
        "# Load dataset\n",
        "df = pd.read_csv(\"data.csv\")\n",
        "\n",
        "# Show the first few rows\n",
        "print(df.head())\n",
        "\n",
        "# Check missing values\n",
        "print(\"\\nMissing Values Before Handling:\\n\", df.isnull().sum())\n"
      ]
    },
    {
      "cell_type": "code",
      "source": [
        "print(df.isnull().sum())  # Count missing values per column\n",
        "print(df.info())  # Check data types\n"
      ],
      "metadata": {
        "colab": {
          "base_uri": "https://localhost:8080/"
        },
        "id": "jthFnjr7zPI3",
        "outputId": "e87cf49e-c4bb-4a7e-bcf9-f137ee3f8b62"
      },
      "execution_count": null,
      "outputs": [
        {
          "output_type": "stream",
          "name": "stdout",
          "text": [
            "EmployeeID    0\n",
            "Name          0\n",
            "Age           2\n",
            "Salary        2\n",
            "Department    1\n",
            "Experience    1\n",
            "dtype: int64\n",
            "<class 'pandas.core.frame.DataFrame'>\n",
            "RangeIndex: 7 entries, 0 to 6\n",
            "Data columns (total 6 columns):\n",
            " #   Column      Non-Null Count  Dtype  \n",
            "---  ------      --------------  -----  \n",
            " 0   EmployeeID  7 non-null      int64  \n",
            " 1   Name        7 non-null      object \n",
            " 2   Age         5 non-null      float64\n",
            " 3   Salary      5 non-null      float64\n",
            " 4   Department  6 non-null      object \n",
            " 5   Experience  6 non-null      float64\n",
            "dtypes: float64(3), int64(1), object(2)\n",
            "memory usage: 468.0+ bytes\n",
            "None\n"
          ]
        }
      ]
    },
    {
      "cell_type": "code",
      "source": [
        "# Compute values\n",
        "mean_age = df[\"Age\"].mean()\n",
        "median_salary = df[\"Salary\"].median()\n",
        "mode_experience = df[\"Experience\"].mode()[0]  # Most frequent value\n",
        "\n",
        "# Fill missing values\n",
        "df[\"Age\"] = df[\"Age\"].fillna(mean_age)\n",
        "df[\"Salary\"] = df[\"Salary\"].fillna(median_salary)\n",
        "df[\"Experience\"] = df[\"Experience\"].fillna(mode_experience)\n",
        "df[\"Department\"] = df[\"Department\"].fillna(\"Unknown\")\n"
      ],
      "metadata": {
        "id": "lVC6-d_pzRrZ"
      },
      "execution_count": null,
      "outputs": []
    },
    {
      "cell_type": "code",
      "source": [
        "df[\"Department\"] = df[\"Department\"].fillna(\"Unknown\")\n"
      ],
      "metadata": {
        "id": "6twHDJRSzmBL"
      },
      "execution_count": null,
      "outputs": []
    },
    {
      "cell_type": "code",
      "source": [
        "df = df.dropna(axis=1, thresh=len(df) * 0.5)  # Drop columns with >50% missing values\n"
      ],
      "metadata": {
        "id": "vp84lfEJzzu1"
      },
      "execution_count": null,
      "outputs": []
    },
    {
      "cell_type": "code",
      "source": [
        "df.to_csv(\"cleaned_data.csv\", index=False)\n",
        "print(\"\\nMissing values handled. Cleaned dataset saved as 'cleaned_data.csv'.\")\n"
      ],
      "metadata": {
        "colab": {
          "base_uri": "https://localhost:8080/"
        },
        "id": "EE5h28N7z_VU",
        "outputId": "6f1c72e4-5361-48c7-8438-e933a6f6cc3b"
      },
      "execution_count": null,
      "outputs": [
        {
          "output_type": "stream",
          "name": "stdout",
          "text": [
            "\n",
            "Missing values handled. Cleaned dataset saved as 'cleaned_data.csv'.\n"
          ]
        }
      ]
    },
    {
      "cell_type": "code",
      "source": [
        "print(\"\\nMissing Values After Handling:\\n\", df.isnull().sum())\n"
      ],
      "metadata": {
        "id": "YxOPVvQi0CQM",
        "outputId": "51b5343f-21e0-41e7-e620-7becffe6a033",
        "colab": {
          "base_uri": "https://localhost:8080/"
        }
      },
      "execution_count": null,
      "outputs": [
        {
          "output_type": "stream",
          "name": "stdout",
          "text": [
            "\n",
            "Missing Values After Handling:\n",
            " EmployeeID    0\n",
            "Name          0\n",
            "Age           0\n",
            "Salary        0\n",
            "Department    0\n",
            "Experience    0\n",
            "dtype: int64\n"
          ]
        }
      ]
    }
  ]
}
